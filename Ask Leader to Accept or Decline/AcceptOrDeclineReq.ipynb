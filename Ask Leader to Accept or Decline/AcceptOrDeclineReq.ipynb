{
 "cells": [
  {
   "cell_type": "code",
   "execution_count": 4,
   "metadata": {},
   "outputs": [
    {
     "name": "stdout",
     "output_type": "stream",
     "text": [
      "testing-for-ecocar-ff6b5e5bbe13.json\n"
     ]
    },
    {
     "data": {
      "text/plain": [
       "True"
      ]
     },
     "execution_count": 4,
     "metadata": {},
     "output_type": "execute_result"
    }
   ],
   "source": [
    "from google.oauth2.service_account import Credentials\n",
    "from googleapiclient.discovery import build\n",
    "from google_auth_oauthlib.flow import InstalledAppFlow\n",
    "from google.auth.transport.requests import Request\n",
    "from googleapiclient.errors import HttpError\n",
    "from dotenv import load_dotenv\n",
    "import csv\n",
    "import os\n",
    "import pandas as pd\n",
    "from email.mime.text import MIMEText\n",
    "from email.mime.multipart import MIMEMultipart\n",
    "import base64\n",
    "import pickle\n",
    "\n",
    "# Retrieve variables from .env\n",
    "SERVICE_ACCOUNT_FILE = os.getenv('SERVICE_ACCOUNT_FILE')\n",
    "SPREADSHEET_ID = os.getenv('SPREADSHEET_ID')\n",
    "print(SERVICE_ACCOUNT_FILE)\n",
    "SAMPLE_RANGE_NAME = 'Sheet1'  # Update the range if necessary\n",
    "# The scopes required by the Sheets and Drive APIs\n",
    "SCOPES = ['https://www.googleapis.com/auth/spreadsheets.readonly']\n",
    "\n",
    "# Load environment variables\n",
    "load_dotenv()"
   ]
  },
  {
   "cell_type": "code",
   "execution_count": 5,
   "metadata": {},
   "outputs": [],
   "source": [
    "# Replace this with the path to your actual CSV file\n",
    "csv_file_path = 'headcount.csv'\n",
    "\n",
    "# Initialize a dictionary to store sub-teams and their headcounts\n",
    "team_headcounts = {}\n",
    "\n",
    "# Open the CSV file and read it\n",
    "with open(csv_file_path, newline='') as csvfile:\n",
    "    csvreader = csv.reader(csvfile, delimiter=',')\n",
    "    next(csvreader, None)  # Skip the header row\n",
    "    \n",
    "    for row in csvreader:\n",
    "        # Assuming the sub-team is in the first column and the headcount is in the second\n",
    "        sub_team = row[0]\n",
    "        headcount = int(row[1])  # Convert headcount to integer\n",
    "\n",
    "        # Store the sub-team and headcount in the dictionary\n",
    "        team_headcounts[sub_team] = headcount"
   ]
  },
  {
   "cell_type": "code",
   "execution_count": 6,
   "metadata": {},
   "outputs": [
    {
     "name": "stdout",
     "output_type": "stream",
     "text": [
      "testing-for-ecocar-ff6b5e5bbe13.json\n"
     ]
    }
   ],
   "source": [
    "def get_google_sheet(service_account_file, spreadsheet_id, range_name, fill_value='N/A'):\n",
    "    \"\"\"Retrieve sheet data using OAuth credentials and Google Python API, \n",
    "    filling missing values with a specified fill_value.\"\"\"\n",
    "    print(service_account_file)\n",
    "    creds = Credentials.from_service_account_file(service_account_file)\n",
    "    service = build('sheets', 'v4', credentials=creds)\n",
    "\n",
    "    # Call the Sheets API\n",
    "    sheet = service.spreadsheets()\n",
    "    result = sheet.values().get(spreadsheetId=spreadsheet_id, range=range_name).execute()\n",
    "    values = result.get('values', [])\n",
    "\n",
    "    if not values:\n",
    "        print(\"No data found.\")\n",
    "        return []\n",
    "\n",
    "    # Ensure all rows have the same number of columns\n",
    "    num_columns = len(values[0])  # Number of columns is based on the first row (header row)\n",
    "    for row in values:\n",
    "        while len(row) < num_columns:\n",
    "            row.append(fill_value)  # Append fill_value to rows with fewer elements than headers\n",
    "\n",
    "    return values\n",
    "values = get_google_sheet(SERVICE_ACCOUNT_FILE, SPREADSHEET_ID, SAMPLE_RANGE_NAME)\n",
    "df = pd.DataFrame(values[1:], columns=values[0])  # Using the first row as column names\n",
    "\n",
    "new_df = df[df['Team Assigned'] == \"N/A\"]"
   ]
  },
  {
   "cell_type": "code",
   "execution_count": 7,
   "metadata": {},
   "outputs": [
    {
     "data": {
      "text/html": [
       "<div>\n",
       "<style scoped>\n",
       "    .dataframe tbody tr th:only-of-type {\n",
       "        vertical-align: middle;\n",
       "    }\n",
       "\n",
       "    .dataframe tbody tr th {\n",
       "        vertical-align: top;\n",
       "    }\n",
       "\n",
       "    .dataframe thead th {\n",
       "        text-align: right;\n",
       "    }\n",
       "</style>\n",
       "<table border=\"1\" class=\"dataframe\">\n",
       "  <thead>\n",
       "    <tr style=\"text-align: right;\">\n",
       "      <th></th>\n",
       "      <th>Timestamp</th>\n",
       "      <th>Email Address</th>\n",
       "      <th>First Name</th>\n",
       "      <th>Last Name</th>\n",
       "      <th>Team Preference 1</th>\n",
       "      <th>Team Preference 2</th>\n",
       "      <th>Team Preference 3</th>\n",
       "      <th>Team Assigned</th>\n",
       "      <th>Accept</th>\n",
       "    </tr>\n",
       "  </thead>\n",
       "  <tbody>\n",
       "    <tr>\n",
       "      <th>0</th>\n",
       "      <td>2/17/2024 14:58:05</td>\n",
       "      <td>ham.konsing@gmail.com</td>\n",
       "      <td>Walbeg</td>\n",
       "      <td>Stuart</td>\n",
       "      <td>PCM - 1</td>\n",
       "      <td>EiM - 2</td>\n",
       "      <td>Cavs - 1</td>\n",
       "      <td>PCM - 1</td>\n",
       "      <td>N/A</td>\n",
       "    </tr>\n",
       "    <tr>\n",
       "      <th>1</th>\n",
       "      <td>2/17/2024 14:59:32</td>\n",
       "      <td>ham.konsing@gmail.com</td>\n",
       "      <td>Edward</td>\n",
       "      <td>John</td>\n",
       "      <td>SDI -2</td>\n",
       "      <td>EiM - 3</td>\n",
       "      <td>Cavs - 2</td>\n",
       "      <td>Cavs - 1</td>\n",
       "      <td>N/A</td>\n",
       "    </tr>\n",
       "    <tr>\n",
       "      <th>2</th>\n",
       "      <td>2/17/2024 14:59:35</td>\n",
       "      <td>manyuk_9@hotmail.com</td>\n",
       "      <td>Hen</td>\n",
       "      <td>Hao</td>\n",
       "      <td>SDI -2</td>\n",
       "      <td>PCM - 1</td>\n",
       "      <td>Cavs - 2</td>\n",
       "      <td>N/A</td>\n",
       "      <td>N/A</td>\n",
       "    </tr>\n",
       "    <tr>\n",
       "      <th>3</th>\n",
       "      <td>2/17/2024 14:59:35</td>\n",
       "      <td>manyuk_9@hotmail.com</td>\n",
       "      <td>Peter</td>\n",
       "      <td>Noah</td>\n",
       "      <td>SDI -2</td>\n",
       "      <td>Cavs - 1</td>\n",
       "      <td>Cavs - 2</td>\n",
       "      <td>EiM - 2</td>\n",
       "      <td>N/A</td>\n",
       "    </tr>\n",
       "  </tbody>\n",
       "</table>\n",
       "</div>"
      ],
      "text/plain": [
       "            Timestamp          Email Address First Name Last Name  \\\n",
       "0  2/17/2024 14:58:05  ham.konsing@gmail.com     Walbeg    Stuart   \n",
       "1  2/17/2024 14:59:32  ham.konsing@gmail.com     Edward      John   \n",
       "2  2/17/2024 14:59:35   manyuk_9@hotmail.com        Hen       Hao   \n",
       "3  2/17/2024 14:59:35   manyuk_9@hotmail.com      Peter      Noah   \n",
       "\n",
       "  Team Preference 1 Team Preference 2 Team Preference 3 Team Assigned Accept  \n",
       "0           PCM - 1           EiM - 2          Cavs - 1       PCM - 1    N/A  \n",
       "1            SDI -2           EiM - 3          Cavs - 2      Cavs - 1    N/A  \n",
       "2            SDI -2           PCM - 1          Cavs - 2           N/A    N/A  \n",
       "3            SDI -2          Cavs - 1          Cavs - 2       EiM - 2    N/A  "
      ]
     },
     "execution_count": 7,
     "metadata": {},
     "output_type": "execute_result"
    }
   ],
   "source": [
    "df"
   ]
  },
  {
   "cell_type": "code",
   "execution_count": 8,
   "metadata": {},
   "outputs": [
    {
     "data": {
      "text/html": [
       "<div>\n",
       "<style scoped>\n",
       "    .dataframe tbody tr th:only-of-type {\n",
       "        vertical-align: middle;\n",
       "    }\n",
       "\n",
       "    .dataframe tbody tr th {\n",
       "        vertical-align: top;\n",
       "    }\n",
       "\n",
       "    .dataframe thead th {\n",
       "        text-align: right;\n",
       "    }\n",
       "</style>\n",
       "<table border=\"1\" class=\"dataframe\">\n",
       "  <thead>\n",
       "    <tr style=\"text-align: right;\">\n",
       "      <th></th>\n",
       "      <th>Timestamp</th>\n",
       "      <th>Email Address</th>\n",
       "      <th>First Name</th>\n",
       "      <th>Last Name</th>\n",
       "      <th>Team Preference 1</th>\n",
       "      <th>Team Preference 2</th>\n",
       "      <th>Team Preference 3</th>\n",
       "      <th>Team Assigned</th>\n",
       "      <th>Accept</th>\n",
       "    </tr>\n",
       "  </thead>\n",
       "  <tbody>\n",
       "    <tr>\n",
       "      <th>2</th>\n",
       "      <td>2/17/2024 14:59:35</td>\n",
       "      <td>manyuk_9@hotmail.com</td>\n",
       "      <td>Hen</td>\n",
       "      <td>Hao</td>\n",
       "      <td>SDI -2</td>\n",
       "      <td>PCM - 1</td>\n",
       "      <td>Cavs - 2</td>\n",
       "      <td>N/A</td>\n",
       "      <td>N/A</td>\n",
       "    </tr>\n",
       "  </tbody>\n",
       "</table>\n",
       "</div>"
      ],
      "text/plain": [
       "            Timestamp         Email Address First Name Last Name  \\\n",
       "2  2/17/2024 14:59:35  manyuk_9@hotmail.com        Hen       Hao   \n",
       "\n",
       "  Team Preference 1 Team Preference 2 Team Preference 3 Team Assigned Accept  \n",
       "2            SDI -2           PCM - 1          Cavs - 2           N/A    N/A  "
      ]
     },
     "execution_count": 8,
     "metadata": {},
     "output_type": "execute_result"
    }
   ],
   "source": [
    "new_df"
   ]
  },
  {
   "cell_type": "code",
   "execution_count": 9,
   "metadata": {},
   "outputs": [],
   "source": [
    "def assignMembers(new_df, team_headcounts, csv_file_path):\n",
    "    unassigned_members = {}\n",
    "    assigned_df = pd.DataFrame([], columns=values[0])\n",
    "    index = 0\n",
    "\n",
    "    for i in range(1, 4):\n",
    "        for idx, row in new_df.iterrows():\n",
    "            team = row[f'Team Preference {i}']\n",
    "            if team_headcounts[team] > 0 and row[\"Team Assigned\"] == \"N/A\":\n",
    "                assigned_df = pd.concat([assigned_df, pd.DataFrame([row])], ignore_index=True)\n",
    "                assigned_df.at[index, 'Team Assigned'] = team\n",
    "                new_df = new_df.drop(idx)\n",
    "                team_headcounts[team] -= 1\n",
    "                index += 1\n",
    "    \n",
    "    # Update the CSV file with new headcounts\n",
    "    with open(csv_file_path, 'w', newline='') as csvfile:\n",
    "        csvwriter = csv.writer(csvfile)\n",
    "        csvwriter.writerow(['Sub-team', 'headcount'])  # Assuming these are your column headers\n",
    "        for team, count in team_headcounts.items():\n",
    "            csvwriter.writerow([team, count])\n",
    "\n",
    "    for idx, row in new_df.iterrows():\n",
    "        unassigned_members[row[\"Email Address\"]] = f\"{row['First Name']} {row['Last Name']}\"\n",
    "\n",
    "    return assigned_df, unassigned_members"
   ]
  },
  {
   "cell_type": "code",
   "execution_count": 10,
   "metadata": {},
   "outputs": [],
   "source": [
    "unassigned_members = {}\n",
    "assigned_members_df, unassigned_members = assignMembers(new_df, team_headcounts, csv_file_path)"
   ]
  },
  {
   "cell_type": "code",
   "execution_count": 11,
   "metadata": {},
   "outputs": [
    {
     "name": "stdout",
     "output_type": "stream",
     "text": [
      "Email Address             Name\n",
      "manyuk_9@hotmail.com      Hen Hao\n"
     ]
    }
   ],
   "source": [
    "print(f\"{'Email Address':<25} {'Name'}\")\n",
    "for key, val in unassigned_members.items():\n",
    "    print(f\"{key:<25} {val}\")"
   ]
  },
  {
   "cell_type": "code",
   "execution_count": 12,
   "metadata": {},
   "outputs": [
    {
     "data": {
      "text/html": [
       "<div>\n",
       "<style scoped>\n",
       "    .dataframe tbody tr th:only-of-type {\n",
       "        vertical-align: middle;\n",
       "    }\n",
       "\n",
       "    .dataframe tbody tr th {\n",
       "        vertical-align: top;\n",
       "    }\n",
       "\n",
       "    .dataframe thead th {\n",
       "        text-align: right;\n",
       "    }\n",
       "</style>\n",
       "<table border=\"1\" class=\"dataframe\">\n",
       "  <thead>\n",
       "    <tr style=\"text-align: right;\">\n",
       "      <th></th>\n",
       "      <th>Timestamp</th>\n",
       "      <th>Email Address</th>\n",
       "      <th>First Name</th>\n",
       "      <th>Last Name</th>\n",
       "      <th>Team Preference 1</th>\n",
       "      <th>Team Preference 2</th>\n",
       "      <th>Team Preference 3</th>\n",
       "      <th>Team Assigned</th>\n",
       "      <th>Accept</th>\n",
       "    </tr>\n",
       "  </thead>\n",
       "  <tbody>\n",
       "  </tbody>\n",
       "</table>\n",
       "</div>"
      ],
      "text/plain": [
       "Empty DataFrame\n",
       "Columns: [Timestamp, Email Address, First Name, Last Name, Team Preference 1, Team Preference 2, Team Preference 3, Team Assigned, Accept]\n",
       "Index: []"
      ]
     },
     "execution_count": 12,
     "metadata": {},
     "output_type": "execute_result"
    }
   ],
   "source": [
    "assigned_members_df"
   ]
  },
  {
   "cell_type": "code",
   "execution_count": 13,
   "metadata": {},
   "outputs": [],
   "source": [
    "def write_team_assignments_to_sheet(assigned_members_df, df, service_account_file, spreadsheet_id):\n",
    "    \"\"\"Write team assignments to the Google Sheet based on assigned members dataframe.\"\"\"\n",
    "    creds = Credentials.from_service_account_file(service_account_file, scopes=['https://www.googleapis.com/auth/spreadsheets'])\n",
    "    service = build('sheets', 'v4', credentials=creds)\n",
    "\n",
    "    # No need to fetch current values from the sheet as we are using the index from df\n",
    "    update_data = []\n",
    "    for _, assigned_row in assigned_members_df.iterrows():\n",
    "        email_address = assigned_row['Email Address']\n",
    "        team_assigned = assigned_row['Team Assigned']\n",
    "        \n",
    "        # Find the index of the row in df that matches the assigned member's email address\n",
    "        index_in_df = df.index[df['Email Address'] == email_address].tolist()[0] + 2  # +2 to adjust for Google Sheets indexing and header\n",
    "        \n",
    "        update_data.append({\n",
    "            'range': f'H{index_in_df}',  # Writing to column H\n",
    "            'values': [[team_assigned]]\n",
    "        })\n",
    "\n",
    "    # Batch update the values\n",
    "    body = {\n",
    "        'valueInputOption': 'USER_ENTERED',\n",
    "        'data': update_data\n",
    "    }\n",
    "    service.spreadsheets().values().batchUpdate(spreadsheetId=spreadsheet_id, body=body).execute()"
   ]
  },
  {
   "cell_type": "code",
   "execution_count": 14,
   "metadata": {},
   "outputs": [],
   "source": [
    "write_team_assignments_to_sheet(assigned_members_df, df, SERVICE_ACCOUNT_FILE, SPREADSHEET_ID)"
   ]
  },
  {
   "cell_type": "code",
   "execution_count": 15,
   "metadata": {},
   "outputs": [],
   "source": [
    "# Functions used to send emails\n",
    "\n",
    "# Email sending function\n",
    "def send_email(service, user_id, message):\n",
    "    try:\n",
    "        message = service.users().messages().send(userId=user_id, body=message).execute()\n",
    "        print(f\"Email sent to {message['id']}\")\n",
    "    except HttpError as error:\n",
    "        print(f'An error occurred: {error}')\n",
    "\n",
    "# Create email message\n",
    "def create_message(sender, to, subject, message_text):\n",
    "    message = MIMEMultipart()\n",
    "    message['from'] = sender\n",
    "    message['to'] = to\n",
    "    message['subject'] = subject\n",
    "    message.attach(MIMEText(message_text, 'plain'))\n",
    "    raw_msg = base64.urlsafe_b64encode(message.as_bytes()).decode()\n",
    "    return {'raw': raw_msg}\n",
    "\n",
    "# Initialize Gmail API\n",
    "def get_gmail_service(client_secret_file, scopes):\n",
    "    creds = None\n",
    "    if os.path.exists('token.pickle'):\n",
    "        with open('token.pickle', 'rb') as token:\n",
    "            creds = pickle.load(token)\n",
    "    if not creds or not creds.valid:\n",
    "        if creds and creds.expired and creds.refresh_token:\n",
    "            creds.refresh(Request())\n",
    "        else:\n",
    "            flow = InstalledAppFlow.from_client_secrets_file(client_secret_file, scopes)\n",
    "            creds = flow.run_local_server(port=0)\n",
    "        with open('token.pickle', 'wb') as token:\n",
    "            pickle.dump(creds, token)\n",
    "    return build('gmail', 'v1', credentials=creds)"
   ]
  },
  {
   "cell_type": "code",
   "execution_count": 16,
   "metadata": {},
   "outputs": [],
   "source": [
    "# Map of team names to team leader emails\n",
    "team_leader_emails = {\n",
    "    \"PCM - 1\": \"ham.konsing@gmail.com\",\n",
    "    \"Cavs - 1\": \"manyuk_9@hotmail.com\",\n",
    "    \"EiM - 2\": \"welbaghdadi@ucdavis.edu\"\n",
    "}\n",
    "\n",
    "# Replace 'client_secret_....json' with your actual client secret file name\n",
    "client_secret_file = 'client_secret_171250538774-1hv52jle9rmtc3hpkfhttgs7sdr0ts8d.apps.googleusercontent.com.json'\n",
    "sender_email = \"ham.konsing@gmail.com\"  # The email you're sending from"
   ]
  },
  {
   "cell_type": "code",
   "execution_count": 17,
   "metadata": {},
   "outputs": [
    {
     "name": "stdout",
     "output_type": "stream",
     "text": [
      "Email sent to 18e1b66c95a14814\n",
      "Email sent to 18e1b66c94aaab4f\n",
      "Email sent to 18e1b66cbb63951a\n"
     ]
    }
   ],
   "source": [
    "# Code to send email to team leaders informing them of new members\n",
    "\n",
    "# Function to notify team leaders\n",
    "def notify_team_leaders(df, team_leader_emails, client_secret_file, sender_email):\n",
    "    scopes = ['https://www.googleapis.com/auth/gmail.send']\n",
    "    service = get_gmail_service(client_secret_file, scopes)\n",
    "    \n",
    "    for index, row in df.iterrows():\n",
    "        team_assigned = row['Team Assigned']\n",
    "        if team_assigned in team_leader_emails:\n",
    "            team_leader_email = team_leader_emails[team_assigned]\n",
    "            subject = \"New Team Member\"\n",
    "            message_text = f\"Dear Team Leader,\\n\\nI'm pleased to inform you that: {row['First Name']} {row['Last Name']} ({row['Email Address']}) has joined our team, ({row['Team Assigned']}).\\n\\nPlease update the team roster to include this new addition. Thank you for your attention to this matter.\\n\\nBest regards,\\nAutomated System\\nEcoCAR\"\n",
    "            message = create_message(sender_email, team_leader_email, subject, message_text)\n",
    "            send_email(service, 'me', message)\n",
    "\n",
    "# Call the function with your dataframe 'df'\n",
    "notify_team_leaders(df, team_leader_emails, client_secret_file, sender_email)"
   ]
  },
  {
   "cell_type": "code",
   "execution_count": 18,
   "metadata": {},
   "outputs": [],
   "source": [
    "# Code to congratulate the student on getting into the team\n",
    "\n",
    "from google.oauth2.credentials import Credentials\n",
    "\n",
    "def congratulate_new_member(df, client_secret_file, sender_email):\n",
    "    scopes = ['https://www.googleapis.com/auth/gmail.send']\n",
    "    service = get_gmail_service(client_secret_file, scopes)\n",
    "    \n",
    "    for index, row in df.iterrows():\n",
    "        first_name = row['First Name']\n",
    "        last_name = row['Last Name']\n",
    "        email_address = row['Email Address']\n",
    "        team_name = row['Team Assigned']\n",
    "        \n",
    "        subject = \"Welcome to the Team!\"\n",
    "        message_text = f\"Dear {first_name} {last_name},\\n\\nCongratulations on joining our team, {team_name}! We are thrilled to have you with us and look forward to achieving great things together.\\n\\nPlease remember to check our team calendar for upcoming meetings and events. Staying informed will help us all stay on track and make the most out of our collaboration.\\n\\nWelcome aboard!\\n\\nBest regards,\\nKonsing Ham Lopez\\nEco Car Team Leader\\n{sender_email}\"\n",
    "        message = create_message(sender_email, email_address, subject, message_text)\n",
    "        send_email(service, 'me', message)\n",
    "\n",
    "# Send email to student\n",
    "congratulate_new_member(assigned_members_df, client_secret_file, sender_email)"
   ]
  },
  {
   "cell_type": "code",
   "execution_count": 19,
   "metadata": {},
   "outputs": [
    {
     "name": "stdout",
     "output_type": "stream",
     "text": [
      "Email sent to 18e1b66ccb816259\n"
     ]
    }
   ],
   "source": [
    "# Code to send email to unassigned members, (tell them, they're on waitlist)\n",
    "\n",
    "def notify_unassigned_members(unassigned_members, client_secret_file, sender_email):\n",
    "    \"\"\"\n",
    "    Notifies individuals that they are placed on the wait list due to no open slots on their preferred teams.\n",
    "\n",
    "    Parameters:\n",
    "    - unassigned_members: Dictionary with email addresses as keys and names as values.\n",
    "    - client_secret_file: Path to the client secret file for Gmail API authentication.\n",
    "    - sender_email: Email address from which the notification will be sent.\n",
    "    \"\"\"\n",
    "    scopes = ['https://www.googleapis.com/auth/gmail.send']\n",
    "    service = get_gmail_service(client_secret_file, scopes)\n",
    "    \n",
    "    for email, name in unassigned_members.items():\n",
    "        subject = \"Update on Team Assignment\"\n",
    "        message_text = f\"Dear {name},\\n\\nWe have received your preferences for team assignments, and we wanted to provide you with an update. Unfortunately, due to a high level of interest and limited availability, we are unable to place you on any of your preferred teams at this time.\\n\\nWe understand this may be disappointing, but you have been placed on our wait list. Should a slot open up on one of your preferred teams, we will reach out to you immediately.\\n\\nWe appreciate your understanding and patience. If you have any questions or wish to discuss other ways you can contribute in the meantime, please do not hesitate to contact us.\\n\\nBest regards,\\nEcoCAR Automated System\"\n",
    "        message = create_message(sender_email, email, subject, message_text)\n",
    "        send_email(service, 'me', message)\n",
    "\n",
    "# Call the function with your unassigned members dictionary\n",
    "notify_unassigned_members(unassigned_members, client_secret_file, sender_email)\n"
   ]
  }
 ],
 "metadata": {
  "kernelspec": {
   "display_name": "Python 3",
   "language": "python",
   "name": "python3"
  },
  "language_info": {
   "codemirror_mode": {
    "name": "ipython",
    "version": 3
   },
   "file_extension": ".py",
   "mimetype": "text/x-python",
   "name": "python",
   "nbconvert_exporter": "python",
   "pygments_lexer": "ipython3",
   "version": "3.10.11"
  }
 },
 "nbformat": 4,
 "nbformat_minor": 2
}
