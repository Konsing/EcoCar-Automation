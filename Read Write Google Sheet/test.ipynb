{
 "cells": [
  {
   "cell_type": "code",
   "execution_count": 1,
   "metadata": {},
   "outputs": [
    {
     "data": {
      "text/plain": [
       "True"
      ]
     },
     "execution_count": 1,
     "metadata": {},
     "output_type": "execute_result"
    }
   ],
   "source": [
    "from googleapiclient.discovery import build\n",
    "from google.oauth2 import service_account\n",
    "import os\n",
    "from dotenv import load_dotenv\n",
    "import pandas as pd\n",
    "\n",
    "# Load environment variables\n",
    "load_dotenv()"
   ]
  },
  {
   "cell_type": "code",
   "execution_count": 2,
   "metadata": {},
   "outputs": [],
   "source": [
    "# Use environment variables\n",
    "SERVICE_FILE = os.getenv('SERVICE_FILE_PATH')\n",
    "SPREADSHEET_ID = os.getenv('SPREADSHEET_ID')\n",
    "RANGE_NAME = os.getenv('RANGE_NAME')\n",
    "\n",
    "SCOPES = ['https://www.googleapis.com/auth/spreadsheets']"
   ]
  },
  {
   "cell_type": "code",
   "execution_count": 3,
   "metadata": {},
   "outputs": [],
   "source": [
    "def get_credentials():\n",
    "    \"\"\"Authenticate using the service account.\"\"\"\n",
    "    return service_account.Credentials.from_service_account_file(SERVICE_FILE, scopes=SCOPES)\n"
   ]
  },
  {
   "cell_type": "code",
   "execution_count": 4,
   "metadata": {},
   "outputs": [],
   "source": [
    "def read_sheet_data(service, spreadsheet_id, range_name):\n",
    "    \"\"\"Reads data from a specified range in the sheet and returns it as a pandas DataFrame.\"\"\"\n",
    "    result = service.spreadsheets().values().get(spreadsheetId=spreadsheet_id, range=range_name).execute()\n",
    "    values = result.get('values', [])\n",
    "\n",
    "    # Check if there's any data fetched from the sheet\n",
    "    if not values:\n",
    "        print('No data found.')\n",
    "        return pd.DataFrame()  # Return an empty DataFrame if no data is found\n",
    "    else:\n",
    "        df = pd.DataFrame(values[1:], columns=values[0])  # Create a DataFrame, assuming the first row is the header\n",
    "        return df\n",
    "\n",
    "def write_data_to_sheet(service, spreadsheet_id, range_name, data_frame):\n",
    "    \"\"\"Writes data from a pandas DataFrame to the sheet.\"\"\"\n",
    "    values = [data_frame.columns.tolist()] + data_frame.values.tolist()  # Include headers\n",
    "    body = {'values': values}\n",
    "    service.spreadsheets().values().update(spreadsheetId=spreadsheet_id, range=range_name,\n",
    "                                           valueInputOption='USER_ENTERED', body=body).execute()\n",
    "    print(f\"Data written to sheet starting at {range_name}.\")"
   ]
  },
  {
   "cell_type": "code",
   "execution_count": 5,
   "metadata": {},
   "outputs": [],
   "source": [
    "service = build('sheets', 'v4', credentials=get_credentials())"
   ]
  },
  {
   "cell_type": "code",
   "execution_count": 6,
   "metadata": {},
   "outputs": [
    {
     "name": "stdout",
     "output_type": "stream",
     "text": [
      "             Sub-team headcount\n",
      "0   Cavs - Propulsion         5\n",
      "1       Cavs - System         3\n",
      "2      Cavs - another        12\n",
      "3       Comm - social         3\n",
      "4     Comm - outreach         0\n",
      "5      Comm - another         4\n",
      "6     PM - automation         6\n",
      "7         EiM - team1         2\n",
      "8         Eim - team2         5\n",
      "9         SDI - team1         8\n",
      "10        SDI - team2         0\n",
      "11        SDI - team3         2\n",
      "12        PCM - team1         5\n",
      "13        PCM - team2        10\n",
      "14        PCM - team2         2\n"
     ]
    }
   ],
   "source": [
    "# Read data\n",
    "df = read_sheet_data(service, SPREADSHEET_ID, RANGE_NAME)\n",
    "\n",
    "# Do something with the DataFrame\n",
    "if not df.empty:\n",
    "    print(df)\n",
    "else:\n",
    "    print(\"The DataFrame is empty.\")"
   ]
  },
  {
   "cell_type": "code",
   "execution_count": 7,
   "metadata": {},
   "outputs": [],
   "source": [
    "# Clear the sheet or range\n",
    "# clear_sheet(service, SPREADSHEET_ID, RANGE_NAME)"
   ]
  },
  {
   "cell_type": "code",
   "execution_count": 8,
   "metadata": {},
   "outputs": [
    {
     "name": "stdout",
     "output_type": "stream",
     "text": [
      "Data written to sheet starting at Sheet1!A1.\n"
     ]
    }
   ],
   "source": [
    "# Load data into DataFrame and write to sheet\n",
    "df = pd.read_csv('headcount.csv')\n",
    "write_data_to_sheet(service, SPREADSHEET_ID, RANGE_NAME + '!A1', df)"
   ]
  }
 ],
 "metadata": {
  "kernelspec": {
   "display_name": "Python 3",
   "language": "python",
   "name": "python3"
  },
  "language_info": {
   "codemirror_mode": {
    "name": "ipython",
    "version": 3
   },
   "file_extension": ".py",
   "mimetype": "text/x-python",
   "name": "python",
   "nbconvert_exporter": "python",
   "pygments_lexer": "ipython3",
   "version": "3.10.11"
  }
 },
 "nbformat": 4,
 "nbformat_minor": 2
}
