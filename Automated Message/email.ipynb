{
 "cells": [
  {
   "cell_type": "code",
   "execution_count": 1,
   "metadata": {},
   "outputs": [],
   "source": [
    "import os.path\n",
    "import base64\n",
    "from email.mime.multipart import MIMEMultipart\n",
    "from email.mime.text import MIMEText\n",
    "from google_auth_oauthlib.flow import InstalledAppFlow\n",
    "from google.auth.transport.requests import Request\n",
    "from google.oauth2.credentials import Credentials\n",
    "from googleapiclient.discovery import build\n",
    "\n",
    "from google.oauth2 import service_account\n",
    "import pandas as pd\n",
    "import os\n",
    "\n",
    "# If modifying these scopes, delete the file token.json.\n",
    "SCOPES = ['https://www.googleapis.com/auth/gmail.send']"
   ]
  },
  {
   "cell_type": "code",
   "execution_count": 2,
   "metadata": {},
   "outputs": [],
   "source": [
    "def send_email(subject, message_text, recipient_email):\n",
    "    \"\"\"Sends an email using the Gmail API.\n",
    "    \"\"\"\n",
    "    creds = None\n",
    "    # The file token.json stores the user's access and refresh tokens, and is\n",
    "    # created automatically when the authorization flow completes for the first\n",
    "    # time.\n",
    "    if os.path.exists('token.json'):\n",
    "        creds = Credentials.from_authorized_user_file('token.json', SCOPES)\n",
    "    # If there are no (valid) credentials available, let the user log in.\n",
    "    if not creds or not creds.valid:\n",
    "        if creds and creds.expired and creds.refresh_token:\n",
    "            creds.refresh(Request())\n",
    "        else:\n",
    "            flow = InstalledAppFlow.from_client_secrets_file(\n",
    "                # Change this to the .json verification file that you create in Google Cloud Console (0Auth2)\n",
    "                'client_secret_171250538774-1hv52jle9rmtc3hpkfhttgs7sdr0ts8d.apps.googleusercontent.com.json', SCOPES)\n",
    "            creds = flow.run_local_server(port=0)\n",
    "        # Save the credentials for the next run\n",
    "        with open('token.json', 'w') as token:\n",
    "            token.write(creds.to_json())\n",
    "\n",
    "    service = build('gmail', 'v1', credentials=creds)\n",
    "\n",
    "    message = MIMEMultipart()\n",
    "    message['to'] = recipient_email\n",
    "    message['subject'] = subject\n",
    "    msg = MIMEText(message_text)\n",
    "    message.attach(msg)\n",
    "\n",
    "    raw = base64.urlsafe_b64encode(message.as_bytes())\n",
    "    raw = raw.decode()\n",
    "    body = {'raw': raw}\n",
    "    try:\n",
    "        sent_message = (service.users().messages().send(userId=\"me\", body=body)\n",
    "                   .execute())\n",
    "        print('Message Id: %s' % sent_message['id'])\n",
    "        return sent_message\n",
    "    except Exception as error:\n",
    "        print(f'An error occurred: {error}')\n",
    "        return None"
   ]
  },
  {
   "cell_type": "code",
   "execution_count": 3,
   "metadata": {},
   "outputs": [],
   "source": [
    "def prepare_and_send_email(recipient_data):\n",
    "    \"\"\"\n",
    "    Prepares and sends an email to the recipient based on provided data.\n",
    "    \n",
    "    Parameters:\n",
    "    recipient_data (list): A list containing [First Name, Last Name, Email, Team Name].\n",
    "    \"\"\"\n",
    "    first_name, last_name, email, team_name = recipient_data\n",
    "    subject = \"Congratulations and Welcome to the Team!\"\n",
    "    message_text = f\"\"\"\n",
    "    Dear {first_name} {last_name},\n",
    "\n",
    "    Congratulations on joining our team, {team_name}! We are thrilled to have you with us and look forward to achieving great things together.\n",
    "\n",
    "    Please remember to check our team calendar for upcoming meetings and events. Staying informed will help us all stay on track and make the most out of our collaboration.\n",
    "\n",
    "    Welcome aboard!\n",
    "\n",
    "    Best regards,\n",
    "    Konsing Ham Lopez\n",
    "    Eco Car Team Leader\n",
    "    ham.konsing@gmail.com\n",
    "    \"\"\"\n",
    "    send_email(subject, message_text, email)"
   ]
  },
  {
   "cell_type": "code",
   "execution_count": 4,
   "metadata": {},
   "outputs": [
    {
     "name": "stdout",
     "output_type": "stream",
     "text": [
      "Message Id: 18dd3b1d0a876c67\n"
     ]
    }
   ],
   "source": [
    "# Example usage, recipient_data[2] will receive an email\n",
    "recipient_data = [\"Ahmed\", \"Irtija\", \"ham.konsing@gmail.com\", \"Automation PM\"]\n",
    "prepare_and_send_email(recipient_data)"
   ]
  },
  {
   "cell_type": "code",
   "execution_count": 5,
   "metadata": {},
   "outputs": [],
   "source": [
    "def send_email_to_leader(new_member_data, leader_email):\n",
    "    \"\"\"\n",
    "    Sends an email to the team leader informing them of a new team member.\n",
    "\n",
    "    Args:\n",
    "    new_member_data (list): A list containing [First Name, Last Name, Email, Team Name].\n",
    "    leader_email (str): Email address of the team leader.\n",
    "    \"\"\"\n",
    "    creds = None\n",
    "    # Check for existing token.json for credentials\n",
    "    if os.path.exists('token.json'):\n",
    "        creds = Credentials.from_authorized_user_file('token.json', SCOPES)\n",
    "    # Authenticate if no valid credentials\n",
    "    if not creds or not creds.valid:\n",
    "        if creds and creds.expired and creds.refresh_token:\n",
    "            creds.refresh(Request())\n",
    "        else:\n",
    "            flow = InstalledAppFlow.from_client_secrets_file(\n",
    "                'client_secret_171250538774-1hv52jle9rmtc3hpkfhttgs7sdr0ts8d.apps.googleusercontent.com.json', SCOPES)\n",
    "            creds = flow.run_local_server(port=0)\n",
    "        with open('token.json', 'w') as token:\n",
    "            token.write(creds.to_json())\n",
    "\n",
    "    service = build('gmail', 'v1', credentials=creds)\n",
    "\n",
    "    first_name, last_name, email, team_name = new_member_data\n",
    "    subject = f\"New Team Member: {first_name} {last_name}\"\n",
    "    message_text = f\"\"\"\n",
    "    Dear Team Leader,\n",
    "\n",
    "    I'm pleased to inform you that {first_name} {last_name} ({email}) has joined our team, {team_name}. \n",
    "\n",
    "    Could you please update the team roster to reflect this new addition? Your attention to this matter is greatly appreciated.\n",
    "\n",
    "    Best regards,\n",
    "    Konsing\n",
    "    Goat\n",
    "    goat@gmail.com\n",
    "    \"\"\"\n",
    "\n",
    "    message = MIMEMultipart()\n",
    "    message['to'] = leader_email\n",
    "    message['subject'] = subject\n",
    "    msg = MIMEText(message_text)\n",
    "    message.attach(msg)\n",
    "\n",
    "    raw = base64.urlsafe_b64encode(message.as_bytes())\n",
    "    raw = raw.decode()\n",
    "    body = {'raw': raw}\n",
    "    try:\n",
    "        sent_message = service.users().messages().send(userId=\"me\", body=body).execute()\n",
    "        print('Message Id:', sent_message['id'])\n",
    "    except Exception as error:\n",
    "        print(f'An error occurred: {error}')"
   ]
  },
  {
   "cell_type": "code",
   "execution_count": 6,
   "metadata": {},
   "outputs": [
    {
     "name": "stdout",
     "output_type": "stream",
     "text": [
      "Message Id: 18dd3b1d30951523\n"
     ]
    }
   ],
   "source": [
    "# Example usage, leader_email's string will be sent an email with the new_member_data\n",
    "new_member_data = [\"Ahmed\", \"Irtija\", \"airtija@ucdavis.edu\", \"Automation (PM)\"]\n",
    "leader_email = \"ham.konsing@gmail.com\"\n",
    "send_email_to_leader(new_member_data, leader_email)"
   ]
  }
 ],
 "metadata": {
  "kernelspec": {
   "display_name": "Python 3",
   "language": "python",
   "name": "python3"
  },
  "language_info": {
   "codemirror_mode": {
    "name": "ipython",
    "version": 3
   },
   "file_extension": ".py",
   "mimetype": "text/x-python",
   "name": "python",
   "nbconvert_exporter": "python",
   "pygments_lexer": "ipython3",
   "version": "3.10.11"
  }
 },
 "nbformat": 4,
 "nbformat_minor": 2
}
